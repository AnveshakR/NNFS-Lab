{
 "cells": [
  {
   "cell_type": "code",
   "execution_count": 2,
   "metadata": {},
   "outputs": [],
   "source": [
    "import pandas as pd \n",
    "import numpy as np\n",
    "import matplotlib.pyplot as plt\n",
    "from sklearn.decomposition import PCA\n",
    "from sklearn.preprocessing import StandardScaler"
   ]
  },
  {
   "cell_type": "markdown",
   "metadata": {},
   "source": [
    "PCA example"
   ]
  },
  {
   "cell_type": "code",
   "execution_count": 5,
   "metadata": {},
   "outputs": [
    {
     "name": "stdout",
     "output_type": "stream",
     "text": [
      "zero_shift: \n",
      " [[-2. -1.  0.  1.  2.]\n",
      " [-4. -2.  0.  2.  4.]\n",
      " [-8. -4.  0.  4.  8.]]\n",
      "cov: \n",
      " [[ 2.  4.  8.]\n",
      " [ 4.  8. 16.]\n",
      " [ 8. 16. 32.]]\n",
      "eigenvals: \n",
      " [ 6.77927340e-31 -1.83015402e-16  4.20000000e+01]\n",
      "eigenvecs: \n",
      " [0.25 0.5  1.  ] [ 0.44448876 -2.22224438  1.        ] [-1.73457745e-15 -2.00000000e+00  1.00000000e+00]\n"
     ]
    }
   ],
   "source": [
    "x = [2,3,4,5,6]\n",
    "y = [4,6,8,10,12]\n",
    "z = [8,12,16,20,24]\n",
    "# x = [2,3,4,5]\n",
    "# y = [4,6,8,10]\n",
    "zero_shift = np.stack((x-np.sum(x)/len(x),y-np.sum(y)/len(y),z-np.sum(z)/len(z)), axis=0)\n",
    "print(\"zero_shift: \\n\",zero_shift)\n",
    "mat = np.stack((x, y, z), axis = 0)\n",
    "mat = np.array(mat)\n",
    "cov = np.cov(mat,bias=True)\n",
    "print(\"cov: \\n\",cov)\n",
    "vals,vecs = np.linalg.eig(cov)\n",
    "print(\"eigenvals: \\n\",vals[::-1])\n",
    "vecs = np.transpose(vecs)\n",
    "print(\"eigenvecs: \\n\",(vecs[0])/max(vecs[0]),(vecs[1])/max(vecs[1]),(vecs[2])/max(vecs[2]))\n"
   ]
  },
  {
   "cell_type": "markdown",
   "metadata": {},
   "source": [
    "PCA proper"
   ]
  },
  {
   "cell_type": "code",
   "execution_count": null,
   "metadata": {},
   "outputs": [],
   "source": []
  }
 ],
 "metadata": {
  "interpreter": {
   "hash": "f4cc0a6c0319b1569e2b81a1d029675795e459fc469682d89b44aaf2ebf1a14d"
  },
  "kernelspec": {
   "display_name": "Python 3.8.6 64-bit",
   "language": "python",
   "name": "python3"
  },
  "language_info": {
   "codemirror_mode": {
    "name": "ipython",
    "version": 3
   },
   "file_extension": ".py",
   "mimetype": "text/x-python",
   "name": "python",
   "nbconvert_exporter": "python",
   "pygments_lexer": "ipython3",
   "version": "3.8.6"
  },
  "orig_nbformat": 4
 },
 "nbformat": 4,
 "nbformat_minor": 2
}
