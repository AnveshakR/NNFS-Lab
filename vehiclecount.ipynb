{
 "cells": [
  {
   "cell_type": "code",
   "execution_count": 12,
   "metadata": {},
   "outputs": [],
   "source": [
    "import cv2\n",
    "import numpy as np"
   ]
  },
  {
   "cell_type": "code",
   "execution_count": 13,
   "metadata": {},
   "outputs": [],
   "source": [
    "bike_cascade_path = r\"two_wheeler.xml\"\n",
    "bike_cascade = cv2.CascadeClassifier()\n",
    "if not bike_cascade.load(cv2.samples.findFile(bike_cascade_path)):\n",
    "    print(\"bike cascade file not found\")\n",
    "    exit(0)"
   ]
  },
  {
   "cell_type": "code",
   "execution_count": 48,
   "metadata": {},
   "outputs": [],
   "source": [
    "videopath = r\"bikes.mp4\"\n",
    "cap = cv2.VideoCapture(videopath)\n",
    "if not cap.isOpened:\n",
    "    print(\"video capture failed\")\n",
    "\n",
    "count = 0\n",
    "yval = 500\n",
    "\n",
    "while True:\n",
    "    ret, frame = cap.read()\n",
    "    if frame is None:\n",
    "        continue\n",
    "    frame = np.array(frame)\n",
    "    frame_gray = cv2.cvtColor(frame, cv2.COLOR_BGR2GRAY)\n",
    "    frame_gray = cv2.equalizeHist(frame_gray)\n",
    "\n",
    "    frame = cv2.line(frame, (0,yval), (len(frame[0]), yval), (0,0,255), 2)\n",
    "\n",
    "    bikes = bike_cascade.detectMultiScale(frame_gray)\n",
    "    for (x,y,w,h) in bikes:\n",
    "        frame = cv2.rectangle(frame, [x,y],[x+w,y+h], (0,0,255),4)\n",
    "        if y+h/2 >= yval and y+h/2 <=yval+10:\n",
    "            count+=1\n",
    "\n",
    "    cv2.putText(frame, \"Bike counter: {}\".format(count), (0,len(frame)-10), cv2.FONT_HERSHEY_SIMPLEX, 0.75, (255,0,0), 2)\n",
    "\n",
    "    cv2.imshow('output',frame)\n",
    "    if cv2.waitKey(1) & 0xFF == ord('q' or 'Q'):\n",
    "        cv2.destroyAllWindows()\n",
    "        break"
   ]
  },
  {
   "cell_type": "code",
   "execution_count": 42,
   "metadata": {},
   "outputs": [
    {
     "data": {
      "text/plain": [
       "1280"
      ]
     },
     "execution_count": 42,
     "metadata": {},
     "output_type": "execute_result"
    }
   ],
   "source": [
    "len(frame[0])"
   ]
  },
  {
   "cell_type": "code",
   "execution_count": null,
   "metadata": {},
   "outputs": [],
   "source": []
  }
 ],
 "metadata": {
  "interpreter": {
   "hash": "f4cc0a6c0319b1569e2b81a1d029675795e459fc469682d89b44aaf2ebf1a14d"
  },
  "kernelspec": {
   "display_name": "Python 3.8.6 64-bit",
   "language": "python",
   "name": "python3"
  },
  "language_info": {
   "codemirror_mode": {
    "name": "ipython",
    "version": 3
   },
   "file_extension": ".py",
   "mimetype": "text/x-python",
   "name": "python",
   "nbconvert_exporter": "python",
   "pygments_lexer": "ipython3",
   "version": "3.8.6"
  },
  "orig_nbformat": 4
 },
 "nbformat": 4,
 "nbformat_minor": 2
}
