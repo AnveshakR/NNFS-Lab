{
 "cells": [
  {
   "cell_type": "code",
   "execution_count": 1,
   "metadata": {},
   "outputs": [],
   "source": [
    "# 1-Y, 2-M, 3-O\n",
    "# 1-L, 2-M, 3-H\n",
    "# 1-M, 2-F\n",
    "# 1-A, 2-E\n",
    "# 0-Y, 1-N"
   ]
  },
  {
   "cell_type": "code",
   "execution_count": 2,
   "metadata": {},
   "outputs": [
    {
     "name": "stdout",
     "output_type": "stream",
     "text": [
      "    age  salary  sex  interview  selection\n",
      "0     1       3    1          1          0\n",
      "1     1       3    1          2          0\n",
      "2     2       3    2          1          1\n",
      "3     3       2    2          1          1\n",
      "4     3       1    2          1          1\n",
      "5     3       1    1          2          0\n",
      "6     2       1    2          2          1\n",
      "7     1       2    1          1          0\n",
      "8     1       1    2          1          1\n",
      "9     3       2    2          1          1\n",
      "10    1       2    2          2          1\n",
      "11    2       2    1          2          0\n",
      "12    2       3    1          1          0\n",
      "13    3       2    1          2          0\n"
     ]
    }
   ],
   "source": [
    "import pandas\n",
    "from sklearn import tree\n",
    "import pydotplus\n",
    "from sklearn.tree import DecisionTreeClassifier\n",
    "import matplotlib.pyplot as plt\n",
    "import matplotlib.image as pltimg\n",
    "\n",
    "df = pandas.read_excel(\"decision-tree.xlsx\")\n",
    "\n",
    "print(df)"
   ]
  },
  {
   "cell_type": "code",
   "execution_count": 6,
   "metadata": {},
   "outputs": [],
   "source": [
    "features = ['age', 'salary', 'sex', 'interview']\n",
    "X = df[features]\n",
    "y = df['selection']"
   ]
  },
  {
   "cell_type": "code",
   "execution_count": 7,
   "metadata": {},
   "outputs": [],
   "source": [
    "%matplotlib qt"
   ]
  },
  {
   "cell_type": "code",
   "execution_count": 18,
   "metadata": {},
   "outputs": [],
   "source": [
    "dtree = DecisionTreeClassifier(criterion='entropy',max_features=1)\n",
    "dtree = dtree.fit(X, y)\n",
    "data = tree.export_graphviz(dtree, out_file=None, feature_names=features)\n",
    "graph = pydotplus.graph_from_dot_data(data)\n",
    "graph.write_png('mydecisiontree.png')\n",
    "\n",
    "img=pltimg.imread('mydecisiontree.png')\n",
    "imgplot = plt.imshow(img)\n",
    "plt.show()"
   ]
  },
  {
   "cell_type": "code",
   "execution_count": null,
   "metadata": {},
   "outputs": [],
   "source": []
  }
 ],
 "metadata": {
  "interpreter": {
   "hash": "f4cc0a6c0319b1569e2b81a1d029675795e459fc469682d89b44aaf2ebf1a14d"
  },
  "kernelspec": {
   "display_name": "Python 3.8.6 64-bit",
   "language": "python",
   "name": "python3"
  },
  "language_info": {
   "codemirror_mode": {
    "name": "ipython",
    "version": 3
   },
   "file_extension": ".py",
   "mimetype": "text/x-python",
   "name": "python",
   "nbconvert_exporter": "python",
   "pygments_lexer": "ipython3",
   "version": "3.8.6"
  },
  "orig_nbformat": 4
 },
 "nbformat": 4,
 "nbformat_minor": 2
}
