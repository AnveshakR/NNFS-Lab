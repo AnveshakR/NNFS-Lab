{
 "cells": [
  {
   "cell_type": "markdown",
   "metadata": {},
   "source": [
    "# EXPERIMENT 1\n",
    "\n",
    "## Handwritten Digits Recognition\n",
    "\n",
    "\n",
    "> Name: Anveshak Rathore\n",
    "\n",
    "> ID: 181060012\n",
    "\n",
    "> Branch: Final Year B.Tech Electronics"
   ]
  },
  {
   "cell_type": "code",
   "execution_count": 1,
   "metadata": {},
   "outputs": [],
   "source": [
    "import datetime\n",
    "import os\n",
    "from sklearn.model_selection import KFold\n",
    "from tensorflow.keras.datasets import mnist\n",
    "from tensorflow.keras.utils import to_categorical\n",
    "from tensorflow.keras.models import Sequential\n",
    "from tensorflow.keras.layers import Conv2D\n",
    "from tensorflow.keras.layers import MaxPooling2D\n",
    "from tensorflow.keras.layers import Dense\n",
    "from tensorflow.keras.layers import Flatten\n",
    "from tensorflow.keras.optimizers import SGD\n",
    "from tensorflow.keras.callbacks import TensorBoard\n",
    "from tensorflow.keras.preprocessing.image import load_img\n",
    "from tensorflow.keras.preprocessing.image import img_to_array\n",
    "from tensorflow.keras.models import load_model\n",
    "from tensorflow.keras.callbacks import EarlyStopping\n",
    "from numpy import argmax"
   ]
  },
  {
   "cell_type": "code",
   "execution_count": 2,
   "metadata": {},
   "outputs": [],
   "source": [
    "(train_X, train_y), (test_X, test_y) = mnist.load_data()"
   ]
  },
  {
   "cell_type": "code",
   "execution_count": 3,
   "metadata": {},
   "outputs": [],
   "source": [
    "train_X = train_X.reshape((train_X.shape[0], 28, 28, 1))\n",
    "test_X = test_X.reshape((test_X.shape[0], 28, 28, 1))\n",
    "train_Y = to_categorical(train_y)\n",
    "test_Y = to_categorical(test_y)"
   ]
  },
  {
   "cell_type": "code",
   "execution_count": 4,
   "metadata": {},
   "outputs": [],
   "source": [
    "train_X = train_X.astype('float32')\n",
    "test_X = test_X.astype('float32')\n",
    "train_norm = train_X / 255.0\n",
    "test_norm = test_X / 255.0"
   ]
  },
  {
   "cell_type": "code",
   "execution_count": 5,
   "metadata": {},
   "outputs": [],
   "source": [
    "model = Sequential()\n",
    "model.add(Conv2D(32, (3, 3), activation='relu', kernel_initializer='he_uniform', input_shape=(28, 28, 1)))\n",
    "model.add(MaxPooling2D((2, 2)))\n",
    "model.add(Conv2D(64, (3, 3), activation='relu', kernel_initializer='he_uniform'))\n",
    "model.add(Conv2D(64, (3, 3), activation='relu', kernel_initializer='he_uniform'))\n",
    "model.add(MaxPooling2D((2, 2)))\n",
    "model.add(Flatten())\n",
    "model.add(Dense(128, activation='relu', kernel_initializer='he_uniform'))\n",
    "model.add(Dense(10, activation='softmax'))\n",
    "opt = SGD(learning_rate=0.001, momentum=0.5)\n",
    "model.compile(optimizer=opt, loss='categorical_crossentropy', metrics=['accuracy'])"
   ]
  },
  {
   "cell_type": "code",
   "execution_count": 6,
   "metadata": {},
   "outputs": [],
   "source": [
    "#%tensorboard --logdir logs/fit"
   ]
  },
  {
   "cell_type": "code",
   "execution_count": 7,
   "metadata": {},
   "outputs": [
    {
     "name": "stdout",
     "output_type": "stream",
     "text": [
      "Epoch 1/50\n",
      "938/938 [==============================] - 8s 6ms/step - loss: 9.9126 - accuracy: 0.7546 - val_loss: 0.2339 - val_accuracy: 0.9293\n",
      "Epoch 2/50\n",
      "938/938 [==============================] - 5s 5ms/step - loss: 0.2038 - accuracy: 0.9387 - val_loss: 0.1609 - val_accuracy: 0.9519\n",
      "Epoch 3/50\n",
      "938/938 [==============================] - 5s 5ms/step - loss: 0.1437 - accuracy: 0.9570 - val_loss: 0.1229 - val_accuracy: 0.9609\n",
      "Epoch 4/50\n",
      "938/938 [==============================] - 5s 5ms/step - loss: 0.1158 - accuracy: 0.9650 - val_loss: 0.1120 - val_accuracy: 0.9656\n",
      "Epoch 5/50\n",
      "938/938 [==============================] - 5s 5ms/step - loss: 0.0984 - accuracy: 0.9698 - val_loss: 0.0950 - val_accuracy: 0.9707\n",
      "Epoch 00005: early stopping\n"
     ]
    }
   ],
   "source": [
    "log_dir = \"logs/fit/\" + datetime.datetime.now().strftime(\"%Y%m%d-%H%M%S\")\n",
    "tensorboard_callback = TensorBoard(log_dir=log_dir, histogram_freq=1)\n",
    "\n",
    "es = EarlyStopping(monitor='accuracy', baseline=0.98, mode='max', patience=5, verbose=1)\n",
    "\n",
    "history = model.fit(train_X, \n",
    "                    train_Y, \n",
    "                    epochs=50, \n",
    "                    batch_size=64, \n",
    "                    validation_data=(test_X, test_Y), \n",
    "                    verbose=1, \n",
    "                    callbacks=[tensorboard_callback,es])"
   ]
  },
  {
   "cell_type": "code",
   "execution_count": 8,
   "metadata": {},
   "outputs": [],
   "source": [
    "#model.save(\"mnistmodel.h5\")"
   ]
  },
  {
   "cell_type": "code",
   "execution_count": 9,
   "metadata": {},
   "outputs": [
    {
     "name": "stdout",
     "output_type": "stream",
     "text": [
      "313/313 [==============================] - 1s 3ms/step - loss: 0.0950 - accuracy: 0.9707\n",
      "> 97.070\n"
     ]
    }
   ],
   "source": [
    "_, acc = model.evaluate(test_X, test_Y, verbose=1)\n",
    "print('> %.3f' % (acc * 100.0))"
   ]
  },
  {
   "cell_type": "code",
   "execution_count": 11,
   "metadata": {},
   "outputs": [
    {
     "name": "stdout",
     "output_type": "stream",
     "text": [
      "1.png    1\n",
      "2.png    2\n",
      "3.png    3\n",
      "4.png    4\n",
      "5.png    5\n"
     ]
    }
   ],
   "source": [
    "#model = load_model\n",
    "numberpath = os.path.join(r'C:\\Users\\anves\\Documents\\Python Scripts\\numbers')\n",
    "for f in os.listdir(numberpath):\n",
    "    filename = os.path.join(numberpath,f)\n",
    "    if filename.endswith('.png'):\n",
    "        img = load_img(filename, color_mode='grayscale', target_size=(28, 28))\n",
    "        img = img_to_array(img)\n",
    "        img = img.reshape(1, 28, 28, 1)\n",
    "        img = img.astype('float32')\n",
    "        img = img / 255.0\n",
    "        digit = argmax(model.predict(img), axis=-1)\n",
    "        print(f,\"  \",digit[0])"
   ]
  },
  {
   "cell_type": "code",
   "execution_count": null,
   "metadata": {},
   "outputs": [],
   "source": []
  }
 ],
 "metadata": {
  "interpreter": {
   "hash": "f4cc0a6c0319b1569e2b81a1d029675795e459fc469682d89b44aaf2ebf1a14d"
  },
  "kernelspec": {
   "display_name": "Python 3.8.6 64-bit",
   "name": "python3"
  },
  "language_info": {
   "codemirror_mode": {
    "name": "ipython",
    "version": 3
   },
   "file_extension": ".py",
   "mimetype": "text/x-python",
   "name": "python",
   "nbconvert_exporter": "python",
   "pygments_lexer": "ipython3",
   "version": "3.8.6"
  },
  "orig_nbformat": 4
 },
 "nbformat": 4,
 "nbformat_minor": 2
}
